{
  "cells": [
    {
      "cell_type": "markdown",
      "metadata": {
        "id": "view-in-github",
        "colab_type": "text"
      },
      "source": [
        "<a href=\"https://colab.research.google.com/github/NINJAHATTORI004/advancepython2/blob/main/DAY3.ipynb\" target=\"_parent\"><img src=\"https://colab.research.google.com/assets/colab-badge.svg\" alt=\"Open In Colab\"/></a>"
      ]
    },
    {
      "cell_type": "code",
      "execution_count": null,
      "id": "97648134",
      "metadata": {
        "id": "97648134"
      },
      "outputs": [],
      "source": [
        "from tkinter import * #Allows to create graphical user interface very easily and quickly"
      ]
    },
    {
      "cell_type": "markdown",
      "id": "e0f53870",
      "metadata": {
        "id": "e0f53870"
      },
      "source": [
        "# in Tkinter everything is a widget so first we create a root widget,,,,Doing something in tkinter is two step process\n",
        "1. Define the thing i.e. create it\n",
        "\n",
        "2. Then put it up on the screen"
      ]
    },
    {
      "cell_type": "code",
      "execution_count": null,
      "id": "ac1fa4fc",
      "metadata": {
        "colab": {
          "base_uri": "https://localhost:8080/",
          "height": 287
        },
        "id": "ac1fa4fc",
        "outputId": "c0d5d870-c460-4c23-d213-d7679984a2b6"
      },
      "outputs": [
        {
          "output_type": "error",
          "ename": "TclError",
          "evalue": "ignored",
          "traceback": [
            "\u001b[0;31m---------------------------------------------------------------------------\u001b[0m",
            "\u001b[0;31mTclError\u001b[0m                                  Traceback (most recent call last)",
            "\u001b[0;32m<ipython-input-7-e06a6e462d09>\u001b[0m in \u001b[0;36m<cell line: 1>\u001b[0;34m()\u001b[0m\n\u001b[0;32m----> 1\u001b[0;31m \u001b[0mroot\u001b[0m\u001b[0;34m=\u001b[0m\u001b[0mTk\u001b[0m\u001b[0;34m(\u001b[0m\u001b[0;34m)\u001b[0m\u001b[0;34m\u001b[0m\u001b[0;34m\u001b[0m\u001b[0m\n\u001b[0m",
            "\u001b[0;32m/usr/lib/python3.10/tkinter/__init__.py\u001b[0m in \u001b[0;36m__init__\u001b[0;34m(self, screenName, baseName, className, useTk, sync, use)\u001b[0m\n\u001b[1;32m   2300\u001b[0m                 \u001b[0mbaseName\u001b[0m \u001b[0;34m=\u001b[0m \u001b[0mbaseName\u001b[0m \u001b[0;34m+\u001b[0m \u001b[0mext\u001b[0m\u001b[0;34m\u001b[0m\u001b[0;34m\u001b[0m\u001b[0m\n\u001b[1;32m   2301\u001b[0m         \u001b[0minteractive\u001b[0m \u001b[0;34m=\u001b[0m \u001b[0;32mFalse\u001b[0m\u001b[0;34m\u001b[0m\u001b[0;34m\u001b[0m\u001b[0m\n\u001b[0;32m-> 2302\u001b[0;31m         \u001b[0mself\u001b[0m\u001b[0;34m.\u001b[0m\u001b[0mtk\u001b[0m \u001b[0;34m=\u001b[0m \u001b[0m_tkinter\u001b[0m\u001b[0;34m.\u001b[0m\u001b[0mcreate\u001b[0m\u001b[0;34m(\u001b[0m\u001b[0mscreenName\u001b[0m\u001b[0;34m,\u001b[0m \u001b[0mbaseName\u001b[0m\u001b[0;34m,\u001b[0m \u001b[0mclassName\u001b[0m\u001b[0;34m,\u001b[0m \u001b[0minteractive\u001b[0m\u001b[0;34m,\u001b[0m \u001b[0mwantobjects\u001b[0m\u001b[0;34m,\u001b[0m \u001b[0museTk\u001b[0m\u001b[0;34m,\u001b[0m \u001b[0msync\u001b[0m\u001b[0;34m,\u001b[0m \u001b[0muse\u001b[0m\u001b[0;34m)\u001b[0m\u001b[0;34m\u001b[0m\u001b[0;34m\u001b[0m\u001b[0m\n\u001b[0m\u001b[1;32m   2303\u001b[0m         \u001b[0;32mif\u001b[0m \u001b[0museTk\u001b[0m\u001b[0;34m:\u001b[0m\u001b[0;34m\u001b[0m\u001b[0;34m\u001b[0m\u001b[0m\n\u001b[1;32m   2304\u001b[0m             \u001b[0mself\u001b[0m\u001b[0;34m.\u001b[0m\u001b[0m_loadtk\u001b[0m\u001b[0;34m(\u001b[0m\u001b[0;34m)\u001b[0m\u001b[0;34m\u001b[0m\u001b[0;34m\u001b[0m\u001b[0m\n",
            "\u001b[0;31mTclError\u001b[0m: no display name and no $DISPLAY environment variable"
          ]
        }
      ],
      "source": [
        "root=Tk()"
      ]
    },
    {
      "cell_type": "markdown",
      "id": "63bc1807",
      "metadata": {
        "id": "63bc1807"
      },
      "source": [
        "CREATING LABEL WIDGET"
      ]
    },
    {
      "cell_type": "code",
      "execution_count": null,
      "id": "9a59b97e",
      "metadata": {
        "id": "9a59b97e"
      },
      "outputs": [],
      "source": [
        "myLabel=Label(root,text=\"Hello! welcome to third day of training\") # We want to send it to root widget so first argument is root"
      ]
    },
    {
      "cell_type": "markdown",
      "id": "42a7792d",
      "metadata": {
        "id": "42a7792d"
      },
      "source": [
        "NOW WE NEED TO PUT THIS WIDGET INTO OUR ROOT WIDGET THAT IS INTO OUR ROOT WINDOW: PACK IT THERE AT FIRST AVAILABLE PLACE"
      ]
    },
    {
      "cell_type": "code",
      "execution_count": null,
      "id": "3218e546",
      "metadata": {
        "id": "3218e546"
      },
      "outputs": [],
      "source": [
        "myLabel.pack()"
      ]
    },
    {
      "cell_type": "markdown",
      "id": "41cb8bff",
      "metadata": {
        "id": "41cb8bff"
      },
      "source": [
        "Lastly we create an EVENT LOOP: WHEN WE HAVE A GRAPHICAL USER INTERFACE WE HAVE A PROGRAM THAT IS RUNNING,LOOPING CONSTANTLY\n",
        "    NORMALLY WHEN APROGRAM ENDS THE LOOP ENDS"
      ]
    },
    {
      "cell_type": "code",
      "execution_count": null,
      "id": "3af9cb0a",
      "metadata": {
        "id": "3af9cb0a"
      },
      "outputs": [],
      "source": [
        "root.mainloop()"
      ]
    },
    {
      "cell_type": "code",
      "execution_count": null,
      "id": "c7af4b09",
      "metadata": {
        "id": "c7af4b09"
      },
      "outputs": [],
      "source": [
        "root=Tk()\n",
        "myLabel=Label(root,text=\"Hello! welcome to third day of training\")\n",
        "myLabel.pack()\n",
        "root.mainloop()"
      ]
    },
    {
      "cell_type": "markdown",
      "id": "d61eb22a",
      "metadata": {
        "id": "d61eb22a"
      },
      "source": [
        " # As we hit the x button on the window the mainloop() terminates"
      ]
    },
    {
      "cell_type": "markdown",
      "id": "b4f85754",
      "metadata": {
        "id": "b4f85754"
      },
      "source": [
        "# Positioning With Tkinter Grid System: Getting more control on positioning the things"
      ]
    },
    {
      "cell_type": "code",
      "execution_count": null,
      "id": "9b1014da",
      "metadata": {
        "id": "9b1014da"
      },
      "outputs": [],
      "source": [
        "root1=Tk()\n",
        "myLabel1=Label(root1,text=\"Hello! welcome to third day of training\")\n",
        "myLabel2=Label(root1,text=\"Please Answer!! Are you feeling happy with this training\")\n",
        "# INSTEAD OF PACKING THESE THINGS WE WANT TO USE THE GRID SYSTEM NOW\n",
        "myLabel1.grid(row=0,column=0)\n",
        "myLabel2.grid(row=1,column=0)\n",
        "root1.mainloop()"
      ]
    },
    {
      "cell_type": "markdown",
      "id": "2aaf453b",
      "metadata": {
        "id": "2aaf453b"
      },
      "source": [
        "# Remember when we resize the window the text remains at the same place: IT DONT MOVE"
      ]
    },
    {
      "cell_type": "code",
      "execution_count": null,
      "id": "37475108",
      "metadata": {
        "id": "37475108"
      },
      "outputs": [],
      "source": [
        "root1=Tk()\n",
        "myLabel1=Label(root1,text=\"Hello! welcome to third day of training\")\n",
        "myLabel2=Label(root1,text=\"Please Answer!! Are you feeling happy with this training\")\n",
        "myLabel3=Label(root1,text=\"Everything is relative not actual coordinate system\")\n",
        "# INSTEAD OF PACKING THESE THINGS WE WANT TO USE THE GRID SYSTEM NOW\n",
        "myLabel1.grid(row=0,column=0)\n",
        "myLabel2.grid(row=1,column=5)\n",
        "myLabel3.grid(row=2,column=10)\n",
        "root1.mainloop()"
      ]
    },
    {
      "cell_type": "markdown",
      "id": "27550522",
      "metadata": {
        "id": "27550522"
      },
      "source": [
        "Python is object oriented so this gris is also an object so alternatively"
      ]
    },
    {
      "cell_type": "code",
      "execution_count": null,
      "id": "0d24028f",
      "metadata": {
        "colab": {
          "base_uri": "https://localhost:8080/",
          "height": 235
        },
        "id": "0d24028f",
        "outputId": "56b0b46d-eadc-478b-9df1-6300598bfead"
      },
      "outputs": [
        {
          "output_type": "error",
          "ename": "NameError",
          "evalue": "ignored",
          "traceback": [
            "\u001b[0;31m---------------------------------------------------------------------------\u001b[0m",
            "\u001b[0;31mNameError\u001b[0m                                 Traceback (most recent call last)",
            "\u001b[0;32m<ipython-input-3-cdd4484beca7>\u001b[0m in \u001b[0;36m<cell line: 1>\u001b[0;34m()\u001b[0m\n\u001b[0;32m----> 1\u001b[0;31m \u001b[0mroot1\u001b[0m\u001b[0;34m=\u001b[0m\u001b[0mTk\u001b[0m\u001b[0;34m(\u001b[0m\u001b[0;34m)\u001b[0m\u001b[0;34m\u001b[0m\u001b[0;34m\u001b[0m\u001b[0m\n\u001b[0m\u001b[1;32m      2\u001b[0m \u001b[0mmyLabel1\u001b[0m\u001b[0;34m=\u001b[0m\u001b[0mLabel\u001b[0m\u001b[0;34m(\u001b[0m\u001b[0mroot1\u001b[0m\u001b[0;34m,\u001b[0m\u001b[0mtext\u001b[0m\u001b[0;34m=\u001b[0m\u001b[0;34m\"Hello! welcome to third day of training\"\u001b[0m\u001b[0;34m)\u001b[0m\u001b[0;34m.\u001b[0m\u001b[0mgrid\u001b[0m\u001b[0;34m(\u001b[0m\u001b[0mrow\u001b[0m\u001b[0;34m=\u001b[0m\u001b[0;36m0\u001b[0m\u001b[0;34m,\u001b[0m\u001b[0mcolumn\u001b[0m\u001b[0;34m=\u001b[0m\u001b[0;36m0\u001b[0m\u001b[0;34m)\u001b[0m\u001b[0;34m\u001b[0m\u001b[0;34m\u001b[0m\u001b[0m\n\u001b[1;32m      3\u001b[0m \u001b[0mmyLabel2\u001b[0m\u001b[0;34m=\u001b[0m\u001b[0mLabel\u001b[0m\u001b[0;34m(\u001b[0m\u001b[0mroot1\u001b[0m\u001b[0;34m,\u001b[0m\u001b[0mtext\u001b[0m\u001b[0;34m=\u001b[0m\u001b[0;34m\"Please Answer!! Are you feeling happy with this training\"\u001b[0m\u001b[0;34m)\u001b[0m\u001b[0;34m.\u001b[0m\u001b[0mgrid\u001b[0m\u001b[0;34m(\u001b[0m\u001b[0mrow\u001b[0m\u001b[0;34m=\u001b[0m\u001b[0;36m1\u001b[0m\u001b[0;34m,\u001b[0m\u001b[0mcolumn\u001b[0m\u001b[0;34m=\u001b[0m\u001b[0;36m5\u001b[0m\u001b[0;34m)\u001b[0m\u001b[0;34m\u001b[0m\u001b[0;34m\u001b[0m\u001b[0m\n\u001b[1;32m      4\u001b[0m \u001b[0mmyLabel3\u001b[0m\u001b[0;34m=\u001b[0m\u001b[0mLabel\u001b[0m\u001b[0;34m(\u001b[0m\u001b[0mroot1\u001b[0m\u001b[0;34m,\u001b[0m\u001b[0mtext\u001b[0m\u001b[0;34m=\u001b[0m\u001b[0;34m\"Everything is relative not actual coordinate system\"\u001b[0m\u001b[0;34m)\u001b[0m\u001b[0;34m.\u001b[0m\u001b[0mgrid\u001b[0m\u001b[0;34m(\u001b[0m\u001b[0mrow\u001b[0m\u001b[0;34m=\u001b[0m\u001b[0;36m2\u001b[0m\u001b[0;34m,\u001b[0m\u001b[0mcolumn\u001b[0m\u001b[0;34m=\u001b[0m\u001b[0;36m10\u001b[0m\u001b[0;34m)\u001b[0m\u001b[0;34m\u001b[0m\u001b[0;34m\u001b[0m\u001b[0m\n\u001b[1;32m      5\u001b[0m \u001b[0mroot1\u001b[0m\u001b[0;34m.\u001b[0m\u001b[0mmainloop\u001b[0m\u001b[0;34m(\u001b[0m\u001b[0;34m)\u001b[0m\u001b[0;34m\u001b[0m\u001b[0;34m\u001b[0m\u001b[0m\n",
            "\u001b[0;31mNameError\u001b[0m: name 'Tk' is not defined"
          ]
        }
      ],
      "source": [
        "root1=Tk()\n",
        "myLabel1=Label(root1,text=\"Hello! welcome to third day of training\").grid(row=0,column=0)\n",
        "myLabel2=Label(root1,text=\"Please Answer!! Are you feeling happy with this training\").grid(row=1,column=5)\n",
        "myLabel3=Label(root1,text=\"Everything is relative not actual coordinate system\").grid(row=2,column=10)\n",
        "root1.mainloop()"
      ]
    },
    {
      "cell_type": "markdown",
      "id": "ee4fd7a7",
      "metadata": {
        "id": "ee4fd7a7"
      },
      "source": [
        "# CREATING BUTTONS: Button is also a widget so more specifically we are creating a button widget"
      ]
    },
    {
      "cell_type": "code",
      "execution_count": null,
      "id": "ceaeabf7",
      "metadata": {
        "colab": {
          "base_uri": "https://localhost:8080/",
          "height": 217
        },
        "id": "ceaeabf7",
        "outputId": "f13005e0-d774-47fd-8362-c756bafc78e0"
      },
      "outputs": [
        {
          "output_type": "error",
          "ename": "NameError",
          "evalue": "ignored",
          "traceback": [
            "\u001b[0;31m---------------------------------------------------------------------------\u001b[0m",
            "\u001b[0;31mNameError\u001b[0m                                 Traceback (most recent call last)",
            "\u001b[0;32m<ipython-input-4-a1e498300338>\u001b[0m in \u001b[0;36m<cell line: 1>\u001b[0;34m()\u001b[0m\n\u001b[0;32m----> 1\u001b[0;31m \u001b[0mroot1\u001b[0m\u001b[0;34m=\u001b[0m\u001b[0mTk\u001b[0m\u001b[0;34m(\u001b[0m\u001b[0;34m)\u001b[0m\u001b[0;34m\u001b[0m\u001b[0;34m\u001b[0m\u001b[0m\n\u001b[0m\u001b[1;32m      2\u001b[0m \u001b[0mmyButton\u001b[0m\u001b[0;34m=\u001b[0m\u001b[0mButton\u001b[0m\u001b[0;34m(\u001b[0m\u001b[0mroot1\u001b[0m\u001b[0;34m,\u001b[0m\u001b[0mtext\u001b[0m\u001b[0;34m=\u001b[0m\u001b[0;34m\"Click to learn more\"\u001b[0m\u001b[0;34m)\u001b[0m\u001b[0;34m\u001b[0m\u001b[0;34m\u001b[0m\u001b[0m\n\u001b[1;32m      3\u001b[0m \u001b[0mmyButton\u001b[0m\u001b[0;34m.\u001b[0m\u001b[0mpack\u001b[0m\u001b[0;34m(\u001b[0m\u001b[0;34m)\u001b[0m\u001b[0;34m\u001b[0m\u001b[0;34m\u001b[0m\u001b[0m\n\u001b[1;32m      4\u001b[0m \u001b[0mroot1\u001b[0m\u001b[0;34m.\u001b[0m\u001b[0mmainloop\u001b[0m\u001b[0;34m(\u001b[0m\u001b[0;34m)\u001b[0m\u001b[0;34m\u001b[0m\u001b[0;34m\u001b[0m\u001b[0m\n",
            "\u001b[0;31mNameError\u001b[0m: name 'Tk' is not defined"
          ]
        }
      ],
      "source": [
        "root1=Tk()\n",
        "myButton=Button(root1,text=\"Click to learn more\")\n",
        "myButton.pack()\n",
        "root1.mainloop()"
      ]
    },
    {
      "cell_type": "code",
      "execution_count": null,
      "id": "9cee850c",
      "metadata": {
        "id": "9cee850c"
      },
      "outputs": [],
      "source": [
        "root1=Tk()\n",
        "myButton=Button(root1,text=\"Click to learn more\",state=DISABLED)\n",
        "myButton.pack()\n",
        "root1.mainloop()"
      ]
    },
    {
      "cell_type": "markdown",
      "id": "9b84b19e",
      "metadata": {
        "id": "9b84b19e"
      },
      "source": [
        "CHANGING THE SIZE"
      ]
    },
    {
      "cell_type": "code",
      "execution_count": null,
      "id": "681b80a6",
      "metadata": {
        "id": "681b80a6"
      },
      "outputs": [],
      "source": [
        "root1=Tk()\n",
        "myButton=Button(root1,text=\"Click to learn more\",padx=50,pady=50)\n",
        "myButton.pack()\n",
        "root1.mainloop()"
      ]
    },
    {
      "cell_type": "markdown",
      "id": "0f207d0e",
      "metadata": {
        "id": "0f207d0e"
      },
      "source": [
        "MAKING BUTTONS FUNCTIONAL"
      ]
    },
    {
      "cell_type": "code",
      "execution_count": null,
      "id": "8d83470c",
      "metadata": {
        "id": "8d83470c"
      },
      "outputs": [],
      "source": [
        "from tkinter import *\n",
        "\n",
        "root = Tk()\n",
        "\n",
        "def myClick():\n",
        "    myLabel = Label(root, text=\"Look! I clicked a Button!!\")\n",
        "    myLabel.pack()\n",
        "\n",
        "myButton = Button(root, text=\"Click Me!\", command=myClick)\n",
        "myButton.pack()\n",
        "\n",
        "\n",
        "\n",
        "root.mainloop()"
      ]
    },
    {
      "cell_type": "code",
      "execution_count": null,
      "id": "440a04e4",
      "metadata": {
        "id": "440a04e4"
      },
      "outputs": [],
      "source": [
        "from tkinter import *\n",
        "\n",
        "root = Tk()\n",
        "def myClick():\n",
        "    myLabel = Label(root, text=\"Your response have been recorded\")\n",
        "    myLabel.pack()\n",
        "\n",
        "myButton = Button(root, text=\"Submit your response\", command=myClick)\n",
        "myButton.pack()\n",
        "root.mainloop()"
      ]
    },
    {
      "cell_type": "code",
      "execution_count": null,
      "id": "697b300d",
      "metadata": {
        "colab": {
          "base_uri": "https://localhost:8080/",
          "height": 356
        },
        "id": "697b300d",
        "outputId": "37a8a0e9-f7f5-484d-fe18-b423d69af2ff"
      },
      "outputs": [
        {
          "output_type": "error",
          "ename": "TclError",
          "evalue": "ignored",
          "traceback": [
            "\u001b[0;31m---------------------------------------------------------------------------\u001b[0m",
            "\u001b[0;31mTclError\u001b[0m                                  Traceback (most recent call last)",
            "\u001b[0;32m<ipython-input-8-9049b8b280eb>\u001b[0m in \u001b[0;36m<cell line: 3>\u001b[0;34m()\u001b[0m\n\u001b[1;32m      1\u001b[0m \u001b[0;32mfrom\u001b[0m \u001b[0mtkinter\u001b[0m \u001b[0;32mimport\u001b[0m \u001b[0;34m*\u001b[0m\u001b[0;34m\u001b[0m\u001b[0;34m\u001b[0m\u001b[0m\n\u001b[1;32m      2\u001b[0m \u001b[0;34m\u001b[0m\u001b[0m\n\u001b[0;32m----> 3\u001b[0;31m \u001b[0mroot\u001b[0m \u001b[0;34m=\u001b[0m \u001b[0mTk\u001b[0m\u001b[0;34m(\u001b[0m\u001b[0;34m)\u001b[0m\u001b[0;34m\u001b[0m\u001b[0;34m\u001b[0m\u001b[0m\n\u001b[0m\u001b[1;32m      4\u001b[0m \u001b[0;34m\u001b[0m\u001b[0m\n\u001b[1;32m      5\u001b[0m \u001b[0;32mdef\u001b[0m \u001b[0mmyClick\u001b[0m\u001b[0;34m(\u001b[0m\u001b[0;34m)\u001b[0m\u001b[0;34m:\u001b[0m\u001b[0;34m\u001b[0m\u001b[0;34m\u001b[0m\u001b[0m\n",
            "\u001b[0;32m/usr/lib/python3.10/tkinter/__init__.py\u001b[0m in \u001b[0;36m__init__\u001b[0;34m(self, screenName, baseName, className, useTk, sync, use)\u001b[0m\n\u001b[1;32m   2300\u001b[0m                 \u001b[0mbaseName\u001b[0m \u001b[0;34m=\u001b[0m \u001b[0mbaseName\u001b[0m \u001b[0;34m+\u001b[0m \u001b[0mext\u001b[0m\u001b[0;34m\u001b[0m\u001b[0;34m\u001b[0m\u001b[0m\n\u001b[1;32m   2301\u001b[0m         \u001b[0minteractive\u001b[0m \u001b[0;34m=\u001b[0m \u001b[0;32mFalse\u001b[0m\u001b[0;34m\u001b[0m\u001b[0;34m\u001b[0m\u001b[0m\n\u001b[0;32m-> 2302\u001b[0;31m         \u001b[0mself\u001b[0m\u001b[0;34m.\u001b[0m\u001b[0mtk\u001b[0m \u001b[0;34m=\u001b[0m \u001b[0m_tkinter\u001b[0m\u001b[0;34m.\u001b[0m\u001b[0mcreate\u001b[0m\u001b[0;34m(\u001b[0m\u001b[0mscreenName\u001b[0m\u001b[0;34m,\u001b[0m \u001b[0mbaseName\u001b[0m\u001b[0;34m,\u001b[0m \u001b[0mclassName\u001b[0m\u001b[0;34m,\u001b[0m \u001b[0minteractive\u001b[0m\u001b[0;34m,\u001b[0m \u001b[0mwantobjects\u001b[0m\u001b[0;34m,\u001b[0m \u001b[0museTk\u001b[0m\u001b[0;34m,\u001b[0m \u001b[0msync\u001b[0m\u001b[0;34m,\u001b[0m \u001b[0muse\u001b[0m\u001b[0;34m)\u001b[0m\u001b[0;34m\u001b[0m\u001b[0;34m\u001b[0m\u001b[0m\n\u001b[0m\u001b[1;32m   2303\u001b[0m         \u001b[0;32mif\u001b[0m \u001b[0museTk\u001b[0m\u001b[0;34m:\u001b[0m\u001b[0;34m\u001b[0m\u001b[0;34m\u001b[0m\u001b[0m\n\u001b[1;32m   2304\u001b[0m             \u001b[0mself\u001b[0m\u001b[0;34m.\u001b[0m\u001b[0m_loadtk\u001b[0m\u001b[0;34m(\u001b[0m\u001b[0;34m)\u001b[0m\u001b[0;34m\u001b[0m\u001b[0;34m\u001b[0m\u001b[0m\n",
            "\u001b[0;31mTclError\u001b[0m: no display name and no $DISPLAY environment variable"
          ]
        }
      ],
      "source": [
        "from tkinter import *\n",
        "\n",
        "root = Tk()\n",
        "\n",
        "def myClick():\n",
        "    myLabel = Label(root, text=\"Your response have been recorded\")\n",
        "    myLabel.pack()\n",
        "\n",
        "myButton = Button(root, text=\"Submit your response\", command=myClick,fg=\"blue\",bg=\"orange\")\n",
        "myButton.pack()\n",
        "\n",
        "\n",
        "\n",
        "root.mainloop()"
      ]
    },
    {
      "cell_type": "code",
      "execution_count": null,
      "id": "75ba154c",
      "metadata": {
        "id": "75ba154c",
        "outputId": "fae499ed-817d-4648-9f4a-cb1922b94d3a"
      },
      "outputs": [
        {
          "name": "stdout",
          "output_type": "stream",
          "text": [
            "Button clicked!\n"
          ]
        }
      ],
      "source": [
        "from tkinter import *\n",
        "\n",
        "def display_message():\n",
        "    print(\"Button clicked!\")\n",
        "\n",
        "root = Tk()\n",
        "button = Button(root, text=\"Click Me\", command=display_message)\n",
        "button.pack()\n",
        "root.mainloop()"
      ]
    },
    {
      "cell_type": "markdown",
      "id": "6adf53d5",
      "metadata": {
        "id": "6adf53d5"
      },
      "source": [
        "# CREATING INPUT FIELDS"
      ]
    },
    {
      "cell_type": "markdown",
      "id": "b12acb9e",
      "metadata": {
        "id": "b12acb9e"
      },
      "source": [
        "ENTRY WIDGET"
      ]
    },
    {
      "cell_type": "code",
      "execution_count": null,
      "id": "e14bc17f",
      "metadata": {
        "id": "e14bc17f"
      },
      "outputs": [],
      "source": [
        "from tkinter import *\n",
        "root = Tk()\n",
        "e = Entry(root)\n",
        "e.pack()\n",
        "def myClick():\n",
        "    myLabel = Label(root, text=\"Your response have been recorded\")\n",
        "    myLabel.pack()\n",
        "\n",
        "myButton = Button(root, text=\"Submit your response\", command=myClick,fg=\"blue\",bg=\"orange\")\n",
        "myButton.pack()\n",
        "root.mainloop()"
      ]
    },
    {
      "cell_type": "code",
      "execution_count": null,
      "id": "1b590f0e",
      "metadata": {
        "id": "1b590f0e"
      },
      "outputs": [],
      "source": [
        "from tkinter import *\n",
        "root = Tk()\n",
        "e = Entry(root,width=50,bg=\"blue\",fg=\"white\",borderwidth=5)\n",
        "e.pack()\n",
        "def myClick():\n",
        "    myLabel = Label(root, text=\"Your response have been recorded\")\n",
        "    myLabel.pack()\n",
        "\n",
        "myButton = Button(root, text=\"Submit your response\", command=myClick,fg=\"blue\",bg=\"orange\")\n",
        "myButton.pack()\n",
        "root.mainloop()"
      ]
    },
    {
      "cell_type": "markdown",
      "id": "2d9bb36c",
      "metadata": {
        "id": "2d9bb36c"
      },
      "source": [
        "What do with this Information we are entering in the entry box????"
      ]
    },
    {
      "cell_type": "code",
      "execution_count": null,
      "id": "17035ae7",
      "metadata": {
        "id": "17035ae7"
      },
      "outputs": [],
      "source": [
        "from tkinter import *\n",
        "root = Tk()\n",
        "e = Entry(root,width=50,bg=\"blue\",fg=\"white\",borderwidth=5)\n",
        "e.pack()\n",
        "#e.get() receives whatever we enter\n",
        "def myClick():\n",
        "    myLabel = Label(root, text=e.get())\n",
        "    myLabel.pack()\n",
        "\n",
        "myButton = Button(root, text=\"Enter your Name\", command=myClick,fg=\"blue\",bg=\"orange\")\n",
        "myButton.pack()\n",
        "root.mainloop()"
      ]
    },
    {
      "cell_type": "code",
      "execution_count": null,
      "id": "6b528638",
      "metadata": {
        "id": "6b528638"
      },
      "outputs": [],
      "source": [
        "from tkinter import *\n",
        "root = Tk()\n",
        "e = Entry(root,width=50,bg=\"blue\",fg=\"white\",borderwidth=5)\n",
        "e.pack()\n",
        "#e.get() receives whatever we enter\n",
        "def myClick():\n",
        "\n",
        "    myLabel = Label(root,text=\"KAISA LAGA BUTTON \"+e.get())\n",
        "    myLabel.pack()\n",
        "\n",
        "myButton = Button(root, text=\"Enter your Name\", command=myClick,fg=\"blue\",bg=\"orange\")\n",
        "myButton.pack()\n",
        "root.mainloop()"
      ]
    },
    {
      "cell_type": "code",
      "execution_count": null,
      "id": "3a0eac9a",
      "metadata": {
        "id": "3a0eac9a"
      },
      "outputs": [],
      "source": [
        "from tkinter import *\n",
        "root = Tk()\n",
        "e = Entry(root,width=50,bg=\"blue\",fg=\"white\",borderwidth=5)\n",
        "e.pack()\n",
        "#e.get() receives whatever we enter\n",
        "def myClick():\n",
        "    We_can_Store_it_in_variable=\"KAISA LAGA BUTTON \"+e.get()\n",
        "    myLabel = Label(root,text=We_can_Store_it_in_variable)\n",
        "    myLabel.pack()\n",
        "\n",
        "myButton = Button(root, text=\"Enter your Name\", command=myClick,fg=\"blue\",bg=\"orange\")\n",
        "myButton.pack()\n",
        "root.mainloop()"
      ]
    },
    {
      "cell_type": "code",
      "execution_count": null,
      "id": "ed90a3df",
      "metadata": {
        "id": "ed90a3df"
      },
      "outputs": [],
      "source": [
        "from tkinter import *\n",
        "root = Tk()\n",
        "e = Entry(root,width=50)\n",
        "e.pack()\n",
        "#e.get() receives whatever we enter\n",
        "e.insert(0,\"Enter your Name: \")\n",
        "def myClick():\n",
        "    We_can_Store_it_in_variable=\"KAISA LAGA BUTTON \"+e.get()\n",
        "    myLabel = Label(root,text=We_can_Store_it_in_variable)\n",
        "    myLabel.pack()\n",
        "\n",
        "myButton = Button(root, text=\"Enter your Name\", command=myClick,fg=\"blue\",bg=\"orange\")\n",
        "myButton.pack()\n",
        "root.mainloop()"
      ]
    },
    {
      "cell_type": "markdown",
      "id": "eca605a7",
      "metadata": {
        "id": "eca605a7"
      },
      "source": [
        "Now we have a program..we can input boxes..can enter data into it....do something with the input data: COMPLETE PROGRAM"
      ]
    },
    {
      "cell_type": "code",
      "execution_count": null,
      "id": "ed1042c3",
      "metadata": {
        "colab": {
          "base_uri": "https://localhost:8080/",
          "height": 356
        },
        "id": "ed1042c3",
        "outputId": "6e2521d9-7d14-4dde-9d0a-7a659cb2e9cc"
      },
      "outputs": [
        {
          "output_type": "error",
          "ename": "TclError",
          "evalue": "ignored",
          "traceback": [
            "\u001b[0;31m---------------------------------------------------------------------------\u001b[0m",
            "\u001b[0;31mTclError\u001b[0m                                  Traceback (most recent call last)",
            "\u001b[0;32m<ipython-input-9-fc49ccfde1e6>\u001b[0m in \u001b[0;36m<cell line: 3>\u001b[0;34m()\u001b[0m\n\u001b[1;32m      1\u001b[0m \u001b[0;32mfrom\u001b[0m \u001b[0mtkinter\u001b[0m \u001b[0;32mimport\u001b[0m \u001b[0;34m*\u001b[0m\u001b[0;34m\u001b[0m\u001b[0;34m\u001b[0m\u001b[0m\n\u001b[1;32m      2\u001b[0m \u001b[0;34m\u001b[0m\u001b[0m\n\u001b[0;32m----> 3\u001b[0;31m \u001b[0mroot\u001b[0m \u001b[0;34m=\u001b[0m \u001b[0mTk\u001b[0m\u001b[0;34m(\u001b[0m\u001b[0;34m)\u001b[0m\u001b[0;34m\u001b[0m\u001b[0;34m\u001b[0m\u001b[0m\n\u001b[0m\u001b[1;32m      4\u001b[0m \u001b[0mroot\u001b[0m\u001b[0;34m.\u001b[0m\u001b[0mtitle\u001b[0m\u001b[0;34m(\u001b[0m\u001b[0;34m\"Simple Calculator\"\u001b[0m\u001b[0;34m)\u001b[0m\u001b[0;34m\u001b[0m\u001b[0;34m\u001b[0m\u001b[0m\n\u001b[1;32m      5\u001b[0m \u001b[0;34m\u001b[0m\u001b[0m\n",
            "\u001b[0;32m/usr/lib/python3.10/tkinter/__init__.py\u001b[0m in \u001b[0;36m__init__\u001b[0;34m(self, screenName, baseName, className, useTk, sync, use)\u001b[0m\n\u001b[1;32m   2300\u001b[0m                 \u001b[0mbaseName\u001b[0m \u001b[0;34m=\u001b[0m \u001b[0mbaseName\u001b[0m \u001b[0;34m+\u001b[0m \u001b[0mext\u001b[0m\u001b[0;34m\u001b[0m\u001b[0;34m\u001b[0m\u001b[0m\n\u001b[1;32m   2301\u001b[0m         \u001b[0minteractive\u001b[0m \u001b[0;34m=\u001b[0m \u001b[0;32mFalse\u001b[0m\u001b[0;34m\u001b[0m\u001b[0;34m\u001b[0m\u001b[0m\n\u001b[0;32m-> 2302\u001b[0;31m         \u001b[0mself\u001b[0m\u001b[0;34m.\u001b[0m\u001b[0mtk\u001b[0m \u001b[0;34m=\u001b[0m \u001b[0m_tkinter\u001b[0m\u001b[0;34m.\u001b[0m\u001b[0mcreate\u001b[0m\u001b[0;34m(\u001b[0m\u001b[0mscreenName\u001b[0m\u001b[0;34m,\u001b[0m \u001b[0mbaseName\u001b[0m\u001b[0;34m,\u001b[0m \u001b[0mclassName\u001b[0m\u001b[0;34m,\u001b[0m \u001b[0minteractive\u001b[0m\u001b[0;34m,\u001b[0m \u001b[0mwantobjects\u001b[0m\u001b[0;34m,\u001b[0m \u001b[0museTk\u001b[0m\u001b[0;34m,\u001b[0m \u001b[0msync\u001b[0m\u001b[0;34m,\u001b[0m \u001b[0muse\u001b[0m\u001b[0;34m)\u001b[0m\u001b[0;34m\u001b[0m\u001b[0;34m\u001b[0m\u001b[0m\n\u001b[0m\u001b[1;32m   2303\u001b[0m         \u001b[0;32mif\u001b[0m \u001b[0museTk\u001b[0m\u001b[0;34m:\u001b[0m\u001b[0;34m\u001b[0m\u001b[0;34m\u001b[0m\u001b[0m\n\u001b[1;32m   2304\u001b[0m             \u001b[0mself\u001b[0m\u001b[0;34m.\u001b[0m\u001b[0m_loadtk\u001b[0m\u001b[0;34m(\u001b[0m\u001b[0;34m)\u001b[0m\u001b[0;34m\u001b[0m\u001b[0;34m\u001b[0m\u001b[0m\n",
            "\u001b[0;31mTclError\u001b[0m: no display name and no $DISPLAY environment variable"
          ]
        }
      ],
      "source": [
        "from tkinter import *\n",
        "root = Tk()\n",
        "root.title(\"Simple Calculator\")\n",
        "\n",
        "e = Entry(root, width=35, borderwidth=5)\n",
        "e.grid(row=0, column=0, columnspan=3, padx=10, pady=10)\n",
        "\n",
        "#e.insert(0, \"\")\n",
        "\n",
        "def button_click(number):\n",
        "\t#e.delete(0, END)\n",
        "\tcurrent = e.get()\n",
        "\te.delete(0, END)\n",
        "\te.insert(0, str(current) + str(number))\n",
        "\n",
        "def button_clear():\n",
        "\te.delete(0, END)\n",
        "\n",
        "def button_add():\n",
        "\tfirst_number = e.get()\n",
        "\tglobal f_num\n",
        "\tglobal math\n",
        "\tmath = \"addition\"\n",
        "\tf_num = int(first_number)\n",
        "\te.delete(0, END)\n",
        "\n",
        "def button_equal():\n",
        "\tsecond_number = e.get()\n",
        "\te.delete(0, END)\n",
        "\n",
        "\tif math == \"addition\":\n",
        "\t\te.insert(0, f_num + int(second_number))\n",
        "\n",
        "\tif math == \"subtraction\":\n",
        "\t\te.insert(0, f_num - int(second_number))\n",
        "\n",
        "\tif math == \"multiplication\":\n",
        "\t\te.insert(0, f_num * int(second_number))\n",
        "\n",
        "\tif math == \"division\":\n",
        "\t\te.insert(0, f_num / int(second_number))\n",
        "\n",
        "\n",
        "\n",
        "def button_subtract():\n",
        "\tfirst_number = e.get()\n",
        "\tglobal f_num\n",
        "\tglobal math\n",
        "\tmath = \"subtraction\"\n",
        "\tf_num = int(first_number)\n",
        "\te.delete(0, END)\n",
        "\n",
        "def button_multiply():\n",
        "\tfirst_number = e.get()\n",
        "\tglobal f_num\n",
        "\tglobal math\n",
        "\tmath = \"multiplication\"\n",
        "\tf_num = int(first_number)\n",
        "\te.delete(0, END)\n",
        "\n",
        "def button_divide():\n",
        "\tfirst_number = e.get()\n",
        "\tglobal f_num\n",
        "\tglobal math\n",
        "\tmath = \"division\"\n",
        "\tf_num = int(first_number)\n",
        "\te.delete(0, END)\n",
        "\n",
        "\n",
        "# Define Buttons\n",
        "\n",
        "button_1 = Button(root, text=\"1\", padx=40, pady=20, command=lambda: button_click(1))\n",
        "button_2 = Button(root, text=\"2\", padx=40, pady=20, command=lambda: button_click(2))\n",
        "button_3 = Button(root, text=\"3\", padx=40, pady=20, command=lambda: button_click(3))\n",
        "button_4 = Button(root, text=\"4\", padx=40, pady=20, command=lambda: button_click(4))\n",
        "button_5 = Button(root, text=\"5\", padx=40, pady=20, command=lambda: button_click(5))\n",
        "button_6 = Button(root, text=\"6\", padx=40, pady=20, command=lambda: button_click(6))\n",
        "button_7 = Button(root, text=\"7\", padx=40, pady=20, command=lambda: button_click(7))\n",
        "button_8 = Button(root, text=\"8\", padx=40, pady=20, command=lambda: button_click(8))\n",
        "button_9 = Button(root, text=\"9\", padx=40, pady=20, command=lambda: button_click(9))\n",
        "button_0 = Button(root, text=\"0\", padx=40, pady=20, command=lambda: button_click(0))\n",
        "button_add = Button(root, text=\"+\", padx=39, pady=20, command=button_add)\n",
        "button_equal = Button(root, text=\"=\", padx=91, pady=20, command=button_equal)\n",
        "button_clear = Button(root, text=\"Clear\", padx=79, pady=20, command=button_clear)\n",
        "\n",
        "button_subtract = Button(root, text=\"-\", padx=41, pady=20, command=button_subtract)\n",
        "button_multiply = Button(root, text=\"*\", padx=40, pady=20, command=button_multiply)\n",
        "button_divide = Button(root, text=\"/\", padx=41, pady=20, command=button_divide)\n",
        "\n",
        "# Put the buttons on the screen\n",
        "\n",
        "button_1.grid(row=3, column=0)\n",
        "button_2.grid(row=3, column=1)\n",
        "button_3.grid(row=3, column=2)\n",
        "\n",
        "button_4.grid(row=2, column=0)\n",
        "button_5.grid(row=2, column=1)\n",
        "button_6.grid(row=2, column=2)\n",
        "\n",
        "button_7.grid(row=1, column=0)\n",
        "button_8.grid(row=1, column=1)\n",
        "button_9.grid(row=1, column=2)\n",
        "\n",
        "button_0.grid(row=4, column=0)\n",
        "button_clear.grid(row=4, column=1, columnspan=2)\n",
        "button_add.grid(row=5, column=0)\n",
        "button_equal.grid(row=5, column=1, columnspan=2)\n",
        "\n",
        "button_subtract.grid(row=6, column=0)\n",
        "button_multiply.grid(row=6, column=1)\n",
        "button_divide.grid(row=6, column=2)\n",
        "\n",
        "\n",
        "\n",
        "\n",
        "\n",
        "\n",
        "\n",
        "root.mainloop()"
      ]
    },
    {
      "cell_type": "code",
      "execution_count": null,
      "id": "14f60ef8",
      "metadata": {
        "id": "14f60ef8"
      },
      "outputs": [],
      "source": []
    }
  ],
  "metadata": {
    "kernelspec": {
      "display_name": "Python 3 (ipykernel)",
      "language": "python",
      "name": "python3"
    },
    "language_info": {
      "codemirror_mode": {
        "name": "ipython",
        "version": 3
      },
      "file_extension": ".py",
      "mimetype": "text/x-python",
      "name": "python",
      "nbconvert_exporter": "python",
      "pygments_lexer": "ipython3",
      "version": "3.9.13"
    },
    "colab": {
      "provenance": [],
      "include_colab_link": true
    }
  },
  "nbformat": 4,
  "nbformat_minor": 5
}